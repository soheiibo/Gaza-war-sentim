{
 "cells": [
  {
   "cell_type": "code",
   "execution_count": 1,
   "id": "ba019448-54fb-4ad2-904c-9cd2fceee63c",
   "metadata": {},
   "outputs": [],
   "source": [
    "import streamlit as st"
   ]
  },
  {
   "cell_type": "code",
   "execution_count": 7,
   "id": "d99c86f1-6c2f-4859-a429-5d8bb11d09cf",
   "metadata": {},
   "outputs": [
    {
     "name": "stderr",
     "output_type": "stream",
     "text": [
      "2024-12-16 07:22:17.121 \n",
      "  \u001b[33m\u001b[1mWarning:\u001b[0m to view this Streamlit app on a browser, run it with the following\n",
      "  command:\n",
      "\n",
      "    streamlit run /opt/anaconda3/lib/python3.12/site-packages/ipykernel_launcher.py [ARGUMENTS]\n"
     ]
    }
   ],
   "source": [
    "st.write('Hello, world!')"
   ]
  },
  {
   "cell_type": "code",
   "execution_count": 5,
   "id": "25057165-5523-48b8-b312-d74d8067a619",
   "metadata": {},
   "outputs": [
    {
     "name": "stdout",
     "output_type": "stream",
     "text": [
      "Capture d’écran 2024-07-06 à 01.33.01.png\n",
      "Capture d’écran 2024-07-06 à 01.33.26.png\n",
      "Capture d’écran 2024-07-06 à 01.48.18.png\n",
      "Capture d’écran 2024-07-06 à 01.48.26.png\n",
      "Capture d’écran 2024-07-06 à 21.15.15.png\n",
      "Untitled.ipynb\n",
      "app.py\n",
      "finalized_model.sav\n",
      "vectorizer.sav\n"
     ]
    }
   ],
   "source": [
    "ls"
   ]
  },
  {
   "cell_type": "code",
   "execution_count": 9,
   "id": "57ee1850-2acd-4ddd-920c-336f6e24a67f",
   "metadata": {},
   "outputs": [
    {
     "name": "stdout",
     "output_type": "stream",
     "text": [
      "Vectorizer loaded from vectorizer.sav\n",
      "model loaded from finalized_model.sav\n"
     ]
    },
    {
     "name": "stderr",
     "output_type": "stream",
     "text": [
      "/opt/anaconda3/lib/python3.12/site-packages/sklearn/base.py:376: InconsistentVersionWarning: Trying to unpickle estimator LogisticRegression from version 1.5.2 when using version 1.5.1. This might lead to breaking code or invalid results. Use at your own risk. For more info please refer to:\n",
      "https://scikit-learn.org/stable/model_persistence.html#security-maintainability-limitations\n",
      "  warnings.warn(\n"
     ]
    }
   ],
   "source": [
    "import pickle\n",
    "\n",
    "with open('vectorizer.sav', 'rb') as f:  \n",
    "    vectorizer = pickle.load(f)\n",
    "\n",
    "with open('finalized_model.sav', 'rb') as f2:  \n",
    "    model = pickle.load(f2)\n",
    "\n",
    "print(f\"Vectorizer loaded from {f.name}\") \n",
    "print(f\"model loaded from {f2.name}\")\n"
   ]
  },
  {
   "cell_type": "code",
   "execution_count": null,
   "id": "b101acab-8073-4235-b6b7-970e72326ae6",
   "metadata": {},
   "outputs": [],
   "source": []
  },
  {
   "cell_type": "code",
   "execution_count": 9,
   "id": "1a13c9e3-5ff0-4e5b-bb4d-419df98379c2",
   "metadata": {},
   "outputs": [],
   "source": [
    "from flask import Flask"
   ]
  },
  {
   "cell_type": "code",
   "execution_count": 11,
   "id": "b39efcdc-548f-4f7e-9109-fca3fc0da02a",
   "metadata": {},
   "outputs": [],
   "source": [
    "from flask import Flask\n",
    "\n",
    "app = Flask(__name__)\n",
    "\n",
    "# Set host and port (optional, but recommended)\n",
    "host = '127.0.0.1'  # or 'localhost'\n",
    "port = 5000  # or any other available port"
   ]
  },
  {
   "cell_type": "code",
   "execution_count": 15,
   "id": "7a71f274-985a-4508-a20f-4114e624b14d",
   "metadata": {},
   "outputs": [
    {
     "name": "stdout",
     "output_type": "stream",
     "text": [
      "Collecting gunicorn\n",
      "  Downloading gunicorn-23.0.0-py3-none-any.whl.metadata (4.4 kB)\n",
      "Requirement already satisfied: packaging in /opt/anaconda3/lib/python3.12/site-packages (from gunicorn) (24.1)\n",
      "Downloading gunicorn-23.0.0-py3-none-any.whl (85 kB)\n",
      "Installing collected packages: gunicorn\n",
      "Successfully installed gunicorn-23.0.0\n"
     ]
    }
   ],
   "source": [
    "!pip install gunicorn"
   ]
  },
  {
   "cell_type": "code",
   "execution_count": null,
   "id": "b919f4d6-64a2-46a6-9249-957bdded5610",
   "metadata": {},
   "outputs": [],
   "source": []
  },
  {
   "cell_type": "code",
   "execution_count": null,
   "id": "4fc4caf7-bcac-409a-9942-0b0aed120a28",
   "metadata": {},
   "outputs": [],
   "source": []
  },
  {
   "cell_type": "code",
   "execution_count": null,
   "id": "f1e4957c-6b6c-49f1-9e9e-4bdf3d406be2",
   "metadata": {},
   "outputs": [],
   "source": []
  },
  {
   "cell_type": "code",
   "execution_count": null,
   "id": "7a499ece-5579-4043-9fdf-fdd9a8214dea",
   "metadata": {},
   "outputs": [],
   "source": []
  },
  {
   "cell_type": "code",
   "execution_count": null,
   "id": "4ef86c04-b760-4658-83cd-3b134903d900",
   "metadata": {},
   "outputs": [],
   "source": []
  },
  {
   "cell_type": "code",
   "execution_count": null,
   "id": "b16e27db-5c46-4c65-b510-189278286046",
   "metadata": {},
   "outputs": [],
   "source": []
  }
 ],
 "metadata": {
  "kernelspec": {
   "display_name": "Python [conda env:base] *",
   "language": "python",
   "name": "conda-base-py"
  },
  "language_info": {
   "codemirror_mode": {
    "name": "ipython",
    "version": 3
   },
   "file_extension": ".py",
   "mimetype": "text/x-python",
   "name": "python",
   "nbconvert_exporter": "python",
   "pygments_lexer": "ipython3",
   "version": "3.12.7"
  }
 },
 "nbformat": 4,
 "nbformat_minor": 5
}
